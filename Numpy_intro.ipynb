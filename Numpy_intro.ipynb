{
 "cells": [
  {
   "cell_type": "code",
   "execution_count": 1,
   "id": "08224179-4c0d-4d47-a9e1-b5fbfdf0644a",
   "metadata": {},
   "outputs": [],
   "source": [
    "import numpy as np"
   ]
  },
  {
   "cell_type": "code",
   "execution_count": 3,
   "id": "43c76d7e-c969-4f81-be1d-548e593978aa",
   "metadata": {},
   "outputs": [
    {
     "name": "stdout",
     "output_type": "stream",
     "text": [
      "[1 2 4 5 6]\n"
     ]
    },
    {
     "data": {
      "text/plain": [
       "numpy.ndarray"
      ]
     },
     "execution_count": 3,
     "metadata": {},
     "output_type": "execute_result"
    }
   ],
   "source": [
    "arr = np.array((1,2,4,5,6))\n",
    "\n",
    "print(arr)\n",
    "type(arr)"
   ]
  },
  {
   "cell_type": "markdown",
   "id": "d5644c70-8987-498e-bc38-ffbb4379c5b8",
   "metadata": {},
   "source": [
    "# dimention of array"
   ]
  },
  {
   "cell_type": "code",
   "execution_count": 5,
   "id": "5dd868f0-9ea1-456e-8d52-fca3bf38898b",
   "metadata": {},
   "outputs": [
    {
     "name": "stdout",
     "output_type": "stream",
     "text": [
      "6\n",
      "<class 'numpy.ndarray'>\n",
      "0\n"
     ]
    }
   ],
   "source": [
    "# 0 dimensional array\n",
    "\n",
    "arr0 = np.array(6)\n",
    "print(arr0)\n",
    "print(type(arr0))\n",
    "print(arr0.ndim)"
   ]
  },
  {
   "cell_type": "code",
   "execution_count": 14,
   "id": "abc1f4e5-370b-4c39-946f-663a89779a16",
   "metadata": {},
   "outputs": [
    {
     "name": "stdout",
     "output_type": "stream",
     "text": [
      "[4 6 3 2 3]\n",
      "<class 'numpy.ndarray'>\n",
      "1\n",
      "6\n",
      "[6 3 2]\n"
     ]
    }
   ],
   "source": [
    "# one-dimensional array\n",
    "\n",
    "arr1 =np.array((4,6,3,2,3))\n",
    "print(arr1)\n",
    "print(type(arr1))\n",
    "print(arr1.ndim)\n",
    "\n",
    "# accesing 1d array\n",
    "\n",
    "print(arr1[1])\n",
    "\n",
    "# Slicing the array\n",
    "arr_slice = arr1[1:4]\n",
    "\n",
    "print(arr_slice)"
   ]
  },
  {
   "cell_type": "code",
   "execution_count": 21,
   "id": "dac57b2b-10bd-4be8-9630-bab22d50e3cf",
   "metadata": {},
   "outputs": [
    {
     "name": "stdout",
     "output_type": "stream",
     "text": [
      "[[23  4 53 64]\n",
      " [ 5 63 53  2]]\n",
      "<class 'numpy.ndarray'>\n",
      "2\n",
      "23\n",
      "5\n",
      "[ 4 53]\n"
     ]
    }
   ],
   "source": [
    "# 2-dimensional array\n",
    "\n",
    "arr2= np.array(((23,4,53,64),(5,63,53,2)))\n",
    "print(arr2)\n",
    "print(type(arr2))\n",
    "print(arr2.ndim)\n",
    "\n",
    "#accessing 2d array\n",
    "\n",
    "print(arr2[0,0])\n",
    "print(arr2[1,0])\n",
    "\n",
    "# slicing 2d array\n",
    "\n",
    "nw_arr2 = arr2[0,1:3]\n",
    "print(nw_arr2)"
   ]
  },
  {
   "cell_type": "code",
   "execution_count": 10,
   "id": "e66cc3f0-aa6d-4bf3-86c2-36995237f5c4",
   "metadata": {},
   "outputs": [
    {
     "name": "stdout",
     "output_type": "stream",
     "text": [
      "[[[3 5]]\n",
      "\n",
      " [[6 5]]\n",
      "\n",
      " [[7 8]]]\n",
      "<class 'numpy.ndarray'>\n",
      "3\n"
     ]
    }
   ],
   "source": [
    "# 3 and more dimensional array\n",
    "\n",
    "arr3 = np.array([[[3,5]],[[6,5]],[[7,8]]])\n",
    "\n",
    "print(arr3)\n",
    "print(type(arr3))\n",
    "print(arr3.ndim)"
   ]
  },
  {
   "cell_type": "code",
   "execution_count": 7,
   "id": "0c038512-1e81-467c-bc4b-df096837bae3",
   "metadata": {},
   "outputs": [
    {
     "name": "stdout",
     "output_type": "stream",
     "text": [
      "[0. 0. 0.]\n",
      "[[0. 0. 0.]\n",
      " [0. 0. 0.]\n",
      " [0. 0. 0.]]\n"
     ]
    }
   ],
   "source": [
    "# array containing only zero... and the number is a floating point type\n",
    "\n",
    "zero_arr = np.zeros(3)\n",
    "print(zero_arr)\n",
    "\n",
    "# 2d array of zeros\n",
    "\n",
    "zero2_arr = np.zeros([3,3])\n",
    "print(zero2_arr)"
   ]
  },
  {
   "cell_type": "code",
   "execution_count": 9,
   "id": "f7bbcf0a-6d85-40a6-8544-d23623843aef",
   "metadata": {},
   "outputs": [
    {
     "name": "stdout",
     "output_type": "stream",
     "text": [
      "[1. 1. 1. 1. 1.]\n",
      "[[1. 1. 1. 1.]\n",
      " [1. 1. 1. 1.]\n",
      " [1. 1. 1. 1.]\n",
      " [1. 1. 1. 1.]]\n"
     ]
    }
   ],
   "source": [
    "# array containing only 1...and here one is a floating point number\n",
    "\n",
    "one_arr =np.ones(5)\n",
    "print(one_arr)\n",
    "\n",
    "#2d array\n",
    "\n",
    "one_arr = np.ones([4,4])\n",
    "print(one_arr)"
   ]
  },
  {
   "cell_type": "code",
   "execution_count": 2,
   "id": "7b6c18e1-2f91-4c0b-a0aa-8db1e11b8d87",
   "metadata": {},
   "outputs": [
    {
     "name": "stdout",
     "output_type": "stream",
     "text": [
      "int64\n"
     ]
    }
   ],
   "source": [
    "\n",
    "# Checking the data type inside an array\n",
    "\n",
    "arr_data_check = np.array([5,4,7,4,3,5])\n",
    "\n",
    "print(arr_data_check.dtype)"
   ]
  },
  {
   "cell_type": "code",
   "execution_count": 14,
   "id": "b8ee2c6f-d815-49c2-bdee-129c7da83156",
   "metadata": {},
   "outputs": [
    {
     "name": "stdout",
     "output_type": "stream",
     "text": [
      "|S1\n",
      "int32\n",
      "int16\n"
     ]
    }
   ],
   "source": [
    "# Creating a specific data type array\n",
    "\n",
    "st_arr = np.array([2,3,5,4,3], dtype = 'S')\n",
    "\n",
    "print(st_arr.dtype)\n",
    "\n",
    "st_arr2 = np.array([3,4,6,2], dtype= 'i')\n",
    "print(st_arr2.dtype)\n",
    "\n",
    "int_arr = np.array([2,3,4,5,6], dtype= 'i2')\n",
    "print(int_arr.dtype)"
   ]
  },
  {
   "cell_type": "markdown",
   "id": "042be458-fbab-4075-93d1-ff21d3851d33",
   "metadata": {},
   "source": [
    "# shape of an array"
   ]
  },
  {
   "cell_type": "code",
   "execution_count": 19,
   "id": "a4383954-3e2e-435b-8f6e-48aa6eb69a1d",
   "metadata": {},
   "outputs": [
    {
     "name": "stdout",
     "output_type": "stream",
     "text": [
      "(5,)\n",
      "(2, 4)\n",
      "(1, 3, 4)\n"
     ]
    }
   ],
   "source": [
    "# The shape of an array is the number of elements in each direction\n",
    "\n",
    "arr_shape = np.array([3,7,8,9,2])\n",
    "print(arr_shape.shape)\n",
    "\n",
    "arr2_shape = np.array([[2,3,6,7],[6,8,9,6]])\n",
    "print(arr2_shape.shape)\n",
    "\n",
    "arr3_shape = np.array([[[2,3,6,7],[6,8,9,6],[4,9,8,4]]])\n",
    "print(arr3_shape.shape)"
   ]
  },
  {
   "cell_type": "markdown",
   "id": "01e0c3f9-e62c-46da-afa8-ea5f0ccc0dc0",
   "metadata": {},
   "source": [
    "# joining array"
   ]
  },
  {
   "cell_type": "code",
   "execution_count": 21,
   "id": "266563b6-f526-46b3-a81c-6fe3effe125b",
   "metadata": {},
   "outputs": [
    {
     "name": "stdout",
     "output_type": "stream",
     "text": [
      "[10 32 67 35 45 21 38 34]\n",
      "[ 55  53 105  69]\n"
     ]
    }
   ],
   "source": [
    "\n",
    "# Joining two or more arrays into one\n",
    "\n",
    "ar1 = np.array([10,32,67,35])\n",
    "ar2 =np.array([45,21,38,34])\n",
    "\n",
    "ar3 = np.concatenate((ar1,ar2))\n",
    "print(ar3)\n",
    "\n"
   ]
  },
  {
   "cell_type": "code",
   "execution_count": 22,
   "id": "49fea8dc-cbb5-40b2-9f25-e74a6370ec4a",
   "metadata": {},
   "outputs": [
    {
     "name": "stdout",
     "output_type": "stream",
     "text": [
      "[[1 2 3 7]\n",
      " [6 4 8 9]]\n",
      "[[1 2]\n",
      " [6 4]\n",
      " [3 7]\n",
      " [8 9]]\n"
     ]
    }
   ],
   "source": [
    "# Joining 2-dimensional array\n",
    "\n",
    "arr_2d_1 = np.array([[1,2],[6,4]])\n",
    "arr_2d_2 = np.array([[3,7],[8,9]])\n",
    "\n",
    "# we join the array along the axis \n",
    "\n",
    "con_arr = np.concatenate((arr_2d_1, arr_2d_2), axis=1) # 1 represent along x axis\n",
    "print(con_arr)\n",
    "\n",
    "con_arr2 = np.concatenate((arr_2d_1, arr_2d_2), axis=0) #0 represent along y axis\n",
    "print(con_arr2)"
   ]
  },
  {
   "cell_type": "markdown",
   "id": "df323386-5bd1-4c0f-83b0-fbf46d150c97",
   "metadata": {},
   "source": [
    "# spliting an array"
   ]
  },
  {
   "cell_type": "code",
   "execution_count": 24,
   "id": "96f0c5a6-b842-44c9-8ee8-ab2f033db4d9",
   "metadata": {},
   "outputs": [
    {
     "name": "stdout",
     "output_type": "stream",
     "text": [
      "[array([1, 2]), array([3, 4]), array([5]), array([6])]\n"
     ]
    }
   ],
   "source": [
    "full_arr = np.array([1,2,3,4,5,6])\n",
    "split_array= np.array_split(full_arr,4)\n",
    "print(split_array)"
   ]
  },
  {
   "cell_type": "markdown",
   "id": "83f0f4ce-8efc-4922-bcb9-228e5cf0bb5c",
   "metadata": {},
   "source": [
    "# ravel and flatten"
   ]
  },
  {
   "cell_type": "code",
   "execution_count": 27,
   "id": "b0cf7c69-580f-457b-a11f-aaae01db9a56",
   "metadata": {},
   "outputs": [
    {
     "name": "stdout",
     "output_type": "stream",
     "text": [
      "[[[1 2 3]\n",
      "  [4 5 6]\n",
      "  [7 8 9]]]\n",
      "the previous dimension is : 3\n",
      "[1 2 3 4 5 6 7 8 9]\n",
      "Now the new dimension is : 1\n"
     ]
    }
   ],
   "source": [
    "# It converts a multidimensional array to a one-dimensional array\n",
    "arr_3d = np.array([[[1,2,3],[4,5,6],[7,8,9]]])\n",
    "print(arr_3d)\n",
    "print(\"the previous dimension is :\",arr_3d.ndim)\n",
    "\n",
    "arr_1d = arr_3d.ravel()\n",
    "\n",
    "print(arr_1d)\n",
    "print(\"Now the new dimension is :\",arr_1d.ndim)\n",
    "\n",
    "# flatten() function also does the same job"
   ]
  },
  {
   "cell_type": "markdown",
   "id": "1cdf9c1d-f180-4974-b34a-ed165f4f15ae",
   "metadata": {},
   "source": [
    "# unique values function"
   ]
  },
  {
   "cell_type": "code",
   "execution_count": 29,
   "id": "b705291c-7100-42b2-bf4c-f68519f619db",
   "metadata": {},
   "outputs": [
    {
     "name": "stdout",
     "output_type": "stream",
     "text": [
      "[2 4 5 6 7 8 9]\n"
     ]
    }
   ],
   "source": [
    "val = np.array([2,4,6,7,5,4,2,7,8,9,7,4,2,4,7])\n",
    "\n",
    "unique_val = np.unique(val)\n",
    "print(unique_val)"
   ]
  },
  {
   "cell_type": "code",
   "execution_count": null,
   "id": "e139c19c-ff53-464a-82c1-c228d79c0075",
   "metadata": {},
   "outputs": [],
   "source": []
  },
  {
   "cell_type": "code",
   "execution_count": null,
   "id": "71dd827b-7390-47cf-93b8-49396e571299",
   "metadata": {},
   "outputs": [],
   "source": []
  }
 ],
 "metadata": {
  "kernelspec": {
   "display_name": "Python 3 (ipykernel)",
   "language": "python",
   "name": "python3"
  },
  "language_info": {
   "codemirror_mode": {
    "name": "ipython",
    "version": 3
   },
   "file_extension": ".py",
   "mimetype": "text/x-python",
   "name": "python",
   "nbconvert_exporter": "python",
   "pygments_lexer": "ipython3",
   "version": "3.12.9"
  }
 },
 "nbformat": 4,
 "nbformat_minor": 5
}
